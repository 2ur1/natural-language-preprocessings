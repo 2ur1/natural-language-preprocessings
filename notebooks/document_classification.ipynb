{
 "cells": [
  {
   "cell_type": "code",
   "execution_count": 1,
   "metadata": {
    "collapsed": false
   },
   "outputs": [],
   "source": [
    "# -*- coding: utf-8 -*-\n",
    "import json\n",
    "import os\n",
    "import time\n",
    "\n",
    "import matplotlib.pyplot as plt\n",
    "from sklearn.model_selection import train_test_split\n",
    "from sklearn.feature_extraction.text import CountVectorizer\n",
    "from sklearn.feature_extraction.text import TfidfTransformer\n",
    "from sklearn.ensemble import RandomForestClassifier\n",
    "from sklearn.model_selection import GridSearchCV\n",
    "from sklearn.pipeline import Pipeline\n",
    "from sklearn.metrics import classification_report, accuracy_score\n",
    "\n",
    "from preprocessings.ja.stopwords import get_stop_words\n",
    "DATA_DIR = os.path.join(os.getcwd(), 'data/processed')"
   ]
  },
  {
   "cell_type": "code",
   "execution_count": 2,
   "metadata": {},
   "outputs": [],
   "source": [
    "def load_data(file_path):\n",
    "    with open(file_path) as f:\n",
    "        items = json.load(f)\n",
    "        \n",
    "    return items\n",
    "\n",
    "\n",
    "def build_pipeline(stopwords):\n",
    "    parameters = {'n_estimators': [10, 30, 50, 70, 90, 110, 130, 150], 'max_features': ['auto', 'sqrt', 'log2', None]}\n",
    "    text_clf = Pipeline([('vect', CountVectorizer(stop_words=stopwords)),\n",
    "                         ('tfidf', TfidfTransformer()),\n",
    "                         ('clf', GridSearchCV(RandomForestClassifier(), parameters, cv=2, scoring='accuracy', n_jobs=-1)),\n",
    "                         ])\n",
    "    return text_clf"
   ]
  },
  {
   "cell_type": "markdown",
   "metadata": {},
   "source": [
    "# No preprocessing"
   ]
  },
  {
   "cell_type": "code",
   "execution_count": 29,
   "metadata": {
    "collapsed": false
   },
   "outputs": [
    {
     "name": "stdout",
     "output_type": "stream",
     "text": [
      "It took 602.1188900470734 seconds.\nAccuracy: 0.9022734984730234\n             precision    recall  f1-score   support\n\n          0       0.82      0.90      0.85       368\n          1       0.96      0.94      0.95       372\n          2       0.87      0.95      0.91       320\n          3       0.99      0.44      0.61       199\n          4       0.89      0.98      0.93       347\n          5       0.82      0.82      0.82       338\n          6       0.99      1.00      1.00       373\n          7       0.91      0.97      0.94       332\n          8       0.96      0.93      0.94       298\n\navg / total       0.91      0.90      0.90      2947\n\n"
     ]
    }
   ],
   "source": [
    "start_time = time.time()  # for measuring running time \n",
    "items = load_data(os.path.join(DATA_DIR, 'livedoor_tokenized.json'))\n",
    "items['data'] = [' '.join(doc) for doc in items['data']]\n",
    "X_train, X_test, y_train, y_test = train_test_split(items['data'], items['label'], test_size=0.4)\n",
    "text_clf = build_pipeline(stopwords=set())\n",
    "text_clf = text_clf.fit(X_train, y_train)\n",
    "y_pred = text_clf.predict(X_test)\n",
    "end_time = time.time()\n",
    "\n",
    "# Evaluation\n",
    "running_time1 = end_time - start_time\n",
    "print('It took {} seconds.'.format(running_time1))\n",
    "print('Accuracy: {}'.format(accuracy_score(y_test, y_pred)))\n",
    "print(classification_report(y_test, y_pred))"
   ]
  },
  {
   "cell_type": "markdown",
   "metadata": {},
   "source": [
    "# With preprocessing"
   ]
  },
  {
   "cell_type": "code",
   "execution_count": 6,
   "metadata": {
    "collapsed": false
   },
   "outputs": [
    {
     "name": "stdout",
     "output_type": "stream",
     "text": [
      "70816/81989\n"
     ]
    },
    {
     "name": "stdout",
     "output_type": "stream",
     "text": [
      "It took 349.9001479148865 seconds.\nAccuracy: 0.9175432643366135\n             precision    recall  f1-score   support\n\n          0       0.87      0.91      0.89       343\n          1       0.96      0.94      0.95       351\n          2       0.92      0.95      0.93       322\n          3       0.99      0.55      0.71       203\n          4       0.89      0.99      0.94       343\n          5       0.78      0.85      0.81       323\n          6       1.00      0.99      0.99       367\n          7       0.97      0.96      0.96       401\n          8       0.93      0.96      0.95       294\n\navg / total       0.92      0.92      0.91      2947\n\n"
     ]
    }
   ],
   "source": [
    "start_time = time.time()  # for measuring running time\n",
    "items = load_data(os.path.join(DATA_DIR, 'livedoor_tokenized_neologd.json'))\n",
    "stopwords = get_stop_words(items['data'], n=100, min_freq=20)\n",
    "items['data'] = [' '.join(doc) for doc in items['data']]\n",
    "X_train, X_test, y_train, y_test = train_test_split(items['data'], items['label'], test_size=0.4)\n",
    "text_clf = build_pipeline(stopwords=stopwords)\n",
    "text_clf = text_clf.fit(X_train, y_train)\n",
    "y_pred = text_clf.predict(X_test)\n",
    "end_time = time.time()\n",
    "\n",
    "# Evaluation\n",
    "running_time2 = end_time - start_time\n",
    "print('It took {} seconds.'.format(running_time2))\n",
    "print('Accuracy: {}'.format(accuracy_score(y_test, y_pred)))\n",
    "print(classification_report(y_test, y_pred))"
   ]
  },
  {
   "cell_type": "markdown",
   "metadata": {},
   "source": [
    "# Running time"
   ]
  },
  {
   "cell_type": "code",
   "execution_count": 34,
   "metadata": {},
   "outputs": [
    {
     "data": {
      "image/png": "[encoded data removed]",
      "text/plain": [
       "<matplotlib.figure.Figure at 0x1141db080>"
      ]
     },
     "metadata": {},
     "output_type": "display_data"
    }
   ],
   "source": [
    "import matplotlib.pyplot as plt\n",
    "plt.barh([0, 1], [running_time1, running_time2], height=0.4, align=\"center\")\n",
    "plt.yticks([0, 1], [\"No preprocessing\", \"With preprocessing\"])\n",
    "plt.xlabel('Second')\n",
    "plt.show()"
   ]
  },
  {
   "cell_type": "code",
   "execution_count": null,
   "metadata": {},
   "outputs": [],
   "source": [
    ""
   ]
  }
 ],
 "metadata": {
  "kernelspec": {
   "display_name": "Python 2",
   "language": "python",
   "name": "python2"
  },
  "language_info": {
   "codemirror_mode": {
    "name": "ipython",
    "version": 2.0
   },
   "file_extension": ".py",
   "mimetype": "text/x-python",
   "name": "python",
   "nbconvert_exporter": "python",
   "pygments_lexer": "ipython2",
   "version": "2.7.6"
  }
 },
 "nbformat": 4,
 "nbformat_minor": 0
}